{
 "cells": [
  {
   "cell_type": "markdown",
   "id": "3fc0739c",
   "metadata": {},
   "source": [
    "# Tasca M2 T01\n",
    "\n",
    "\n",
    "## Exercici 1\n",
    "\n",
    "Crea una llista que agrupi els mesos de l’any en trimestres (1T: gener, febrer i març; 2T: abril, maig, juny...), és a dir, una llista amb 4 llistes dins."
   ]
  },
  {
   "cell_type": "code",
   "execution_count": 1,
   "id": "4c4d4143",
   "metadata": {
    "run_control": {
     "marked": false
    }
   },
   "outputs": [],
   "source": [
    "listMeses = [[\"enero\", \"febrero\", \"marzo\"],[\"abril\", \"mayo\", \"junio\"],[\"julio\", \"agosto\", \"septiembre\"],[\"octubre\", \"noviembre\", \"diciembre\"]]"
   ]
  },
  {
   "cell_type": "markdown",
   "id": "d1146af4",
   "metadata": {},
   "source": [
    "## Exercici 2\n",
    "\n",
    "Crea un codi que et permeti accedir a:\n",
    "\n",
    "1. El segon mes del primer trimestre.\n",
    "2. Els mesos del primer trimestre.\n",
    "3. Setembre i octubre.\n",
    "\n",
    "### El segon mes del primer trimestre.\n"
   ]
  },
  {
   "cell_type": "code",
   "execution_count": 2,
   "id": "8612a5e7",
   "metadata": {
    "scrolled": true
   },
   "outputs": [
    {
     "name": "stdout",
     "output_type": "stream",
     "text": [
      "febrero\n"
     ]
    }
   ],
   "source": [
    "print(listMeses[0][1])"
   ]
  },
  {
   "cell_type": "markdown",
   "id": "7563a568",
   "metadata": {},
   "source": [
    "### Els mesos del primer trimestre."
   ]
  },
  {
   "cell_type": "code",
   "execution_count": 3,
   "id": "1dc09127",
   "metadata": {},
   "outputs": [
    {
     "name": "stdout",
     "output_type": "stream",
     "text": [
      "['enero', 'febrero', 'marzo']\n"
     ]
    }
   ],
   "source": [
    " print(listMeses[0])"
   ]
  },
  {
   "cell_type": "markdown",
   "id": "177521b5",
   "metadata": {},
   "source": [
    "### Setembre i octubre."
   ]
  },
  {
   "cell_type": "code",
   "execution_count": 4,
   "id": "34e9c5cb",
   "metadata": {},
   "outputs": [
    {
     "name": "stdout",
     "output_type": "stream",
     "text": [
      "septiembre y octubre\n"
     ]
    }
   ],
   "source": [
    "print(f'{listMeses[2][2]} y {listMeses[3][0]}') \n",
    "\n",
    "#Otras formas de printear\n",
    "#print(listMeses[2][2],\",\", listMeses[3][0])   \n",
    "#print(\"%s %s meses %s\" % (listMeses[2][2], listMeses[3][0], 'hola')) \n"
   ]
  },
  {
   "cell_type": "markdown",
   "id": "47e177a0",
   "metadata": {},
   "source": [
    "### Resultados \n",
    "1. El segundo mes del primer trimestre es: febrero\n",
    "2. Los meses del primer trimestre son: ['enero', 'febrero', 'marzo']\n",
    "3. septiembre y octubre\n"
   ]
  },
  {
   "cell_type": "markdown",
   "id": "3ecf9bc1",
   "metadata": {},
   "source": [
    "## Exercici 3\n",
    "\n",
    "Crea una llista amb nombres desordenats i respon a les següents preguntes:\n",
    "\n",
    "1. Quants números hi ha?\n",
    "2. Quantes vegades apareix el número 3.\n",
    "3. Quantes vegades apareixen els nombres 3 i 4?\n",
    "4. Quin és el número més gran?\n",
    "5. Quins són els 3 números més petits?\n",
    "6. Quin és el rang d’aquesta llista?\n"
   ]
  },
  {
   "cell_type": "markdown",
   "id": "139fb380",
   "metadata": {},
   "source": [
    "### Crea una llista amb nombres desordenats i respon a les següents preguntes:"
   ]
  },
  {
   "cell_type": "code",
   "execution_count": 10,
   "id": "5f309174",
   "metadata": {},
   "outputs": [
    {
     "name": "stdout",
     "output_type": "stream",
     "text": [
      "[3, 56, 7, 34, 4, 23, 78, 4, 234, 12, 3, 67]\n"
     ]
    }
   ],
   "source": [
    "listNumeros = [3,56,7,34,4,23,78,4,234,12,3,67]\n",
    "print(listNumeros)"
   ]
  },
  {
   "cell_type": "markdown",
   "id": "37966fd6",
   "metadata": {},
   "source": [
    "### Quants números hi ha?"
   ]
  },
  {
   "cell_type": "code",
   "execution_count": 11,
   "id": "18a14e0a",
   "metadata": {},
   "outputs": [
    {
     "name": "stdout",
     "output_type": "stream",
     "text": [
      "12\n"
     ]
    }
   ],
   "source": [
    "print(len(listNumeros)) "
   ]
  },
  {
   "cell_type": "markdown",
   "id": "b0c14ab9",
   "metadata": {},
   "source": [
    "### Quantes vegades apareix el número 3."
   ]
  },
  {
   "cell_type": "code",
   "execution_count": 12,
   "id": "68363537",
   "metadata": {},
   "outputs": [
    {
     "name": "stdout",
     "output_type": "stream",
     "text": [
      "2\n"
     ]
    }
   ],
   "source": [
    "print(listNumeros.count(3))"
   ]
  },
  {
   "cell_type": "markdown",
   "id": "6e4891c3",
   "metadata": {},
   "source": [
    "### Quantes vegades apareixen els nombres 3 i 4?"
   ]
  },
  {
   "cell_type": "code",
   "execution_count": 14,
   "id": "a9038cf4",
   "metadata": {
    "scrolled": true
   },
   "outputs": [
    {
     "name": "stdout",
     "output_type": "stream",
     "text": [
      "El número 3 aparece 2 veces y el número 4 aparece 2 veces\n"
     ]
    }
   ],
   "source": [
    "print(f'El número 3 aparece {listNumeros.count(3)} veces y el número 4 aparece {listNumeros.count(4)} veces.') "
   ]
  },
  {
   "cell_type": "markdown",
   "id": "73faf85f",
   "metadata": {},
   "source": [
    "### Quin és el número més gran?"
   ]
  },
  {
   "cell_type": "code",
   "execution_count": 15,
   "id": "2b61f1b7",
   "metadata": {},
   "outputs": [
    {
     "name": "stdout",
     "output_type": "stream",
     "text": [
      "234\n"
     ]
    }
   ],
   "source": [
    "print(max(listNumeros)) "
   ]
  },
  {
   "cell_type": "markdown",
   "id": "4da923c4",
   "metadata": {},
   "source": [
    "### Quins són els 3 números més petits?"
   ]
  },
  {
   "cell_type": "code",
   "execution_count": 28,
   "id": "61c6e6a6",
   "metadata": {},
   "outputs": [
    {
     "name": "stdout",
     "output_type": "stream",
     "text": [
      "Los 3 números más pequeños son: [3, 3, 4]\n"
     ]
    }
   ],
   "source": [
    "import heapq\n",
    "print(f'Los 3 números más pequeños son: {heapq.nsmallest(3,listNumeros)}')"
   ]
  },
  {
   "cell_type": "code",
   "execution_count": 29,
   "id": "5e7cd482",
   "metadata": {},
   "outputs": [
    {
     "name": "stdout",
     "output_type": "stream",
     "text": [
      "Lista ordenada: [3, 3, 4, 4, 7, 12, 23, 34, 56, 67, 78, 234]\n",
      "Los 3 números más pequeños son: [3, 3, 4]\n"
     ]
    }
   ],
   "source": [
    "listNumeros.sort()\n",
    "print(f'Lista ordenada: {listNumeros}')\n",
    "print(f'Los 3 números más pequeños son: {listNumeros[0:3]}')"
   ]
  },
  {
   "cell_type": "markdown",
   "id": "9c48e140",
   "metadata": {},
   "source": [
    "### Quin és el rang d’aquesta llista?"
   ]
  },
  {
   "cell_type": "code",
   "execution_count": 32,
   "id": "b18c2d5e",
   "metadata": {},
   "outputs": [
    {
     "name": "stdout",
     "output_type": "stream",
     "text": [
      "El rango de la lista es: 231\n"
     ]
    }
   ],
   "source": [
    "print(f'El rango de la lista es: {max(listNumeros) - min(listNumeros)}') "
   ]
  },
  {
   "cell_type": "markdown",
   "id": "016f082e",
   "metadata": {},
   "source": [
    "### Resultados\n",
    "1. Lista creada: [3, 56, 7, 34, 4, 23, 78, 4, 234, 12, 3, 67]\n",
    "2. Tiene 12 números\n",
    "3. El número 3 aparece 2 veces \n",
    "4. El número 3 y el número 4 aparecen 2 veces\n",
    "5. El número más grande es el 234\n",
    "6. Los números más pequeños son [3, 3, 4]\n",
    "7. El rango de esta lista es: 231"
   ]
  },
  {
   "cell_type": "markdown",
   "id": "fd1a243c",
   "metadata": {},
   "source": [
    "## Excercici 4\n",
    "\n",
    "Crea un diccionari de la següent forma i respon a les preguntes:\n",
    "\n",
    "compra = { \"Pomes\" : {\"Qty\": 5, \"€\": 0.42}, \"Peres\" : {\"Qty\": 3, \"€\": 0.66} }\n",
    "\n",
    "1. Afegeix alguna fruita més\n",
    "2. Quant han costat les peres en total?\n",
    "3. Quantes fruites hem comprat en total?\n",
    "4. Quina és la fruita més cara?\n",
    "\n",
    "### Afegeix alguna fruita més"
   ]
  },
  {
   "cell_type": "code",
   "execution_count": 31,
   "id": "7f6b67e3",
   "metadata": {
    "code_folding": []
   },
   "outputs": [
    {
     "name": "stdout",
     "output_type": "stream",
     "text": [
      "{'Qty': 4, '€': 0.56}\n",
      "{'Pomes': {'Qty': 5, '€': 0.42}, 'Peres': {'Qty': 3, '€': 0.66}, 'Taronges': {'Qty': 4, '€': 0.56}}\n"
     ]
    }
   ],
   "source": [
    "compra = { \n",
    "    \"Pomes\" : {\"Qty\": 5, '€': 0.42}, \n",
    "    \"Peres\" : {\"Qty\": 3, '€': 0.66} }\n",
    "\n",
    "compra [\"Taronges\"] = {\"Qty\": 4, '€': 0.56} \n",
    "print(compra[\"Taronges\"])\n",
    "print(compra)"
   ]
  },
  {
   "cell_type": "markdown",
   "id": "b304129d",
   "metadata": {},
   "source": [
    "### Quant han costat les peres en total?"
   ]
  },
  {
   "cell_type": "code",
   "execution_count": 25,
   "id": "13da945d",
   "metadata": {},
   "outputs": [
    {
     "name": "stdout",
     "output_type": "stream",
     "text": [
      "Las peras en total costaron: €1.98\n"
     ]
    }
   ],
   "source": [
    "print(f'Las peras en total costaron: €{compra[\"Peres\"][\"Qty\"] * compra [\"Peres\"][\"€\"]}')\n"
   ]
  },
  {
   "cell_type": "markdown",
   "id": "4bd7aae6",
   "metadata": {},
   "source": [
    "### Quantes fruites hem comprat en total?"
   ]
  },
  {
   "cell_type": "code",
   "execution_count": 17,
   "id": "4419b3e4",
   "metadata": {},
   "outputs": [
    {
     "name": "stdout",
     "output_type": "stream",
     "text": [
      " Han comprado en total 12 frutas\n"
     ]
    }
   ],
   "source": [
    "totalFrut = sum([x[\"Qty\"] for x in compra.values()])\n",
    "print(f'Han comprado en total {totalFrut} frutas.')"
   ]
  },
  {
   "cell_type": "markdown",
   "id": "ede1f434",
   "metadata": {},
   "source": [
    "### Quina és la fruita més cara?"
   ]
  },
  {
   "cell_type": "code",
   "execution_count": 23,
   "id": "48db478c",
   "metadata": {},
   "outputs": [
    {
     "name": "stdout",
     "output_type": "stream",
     "text": [
      " La fruta más cara es: Peres\n"
     ]
    }
   ],
   "source": [
    "frutCara = max(x[\"€\"]for x in compra.values())\n",
    "for key,value in compra.items():\n",
    "    if value[\"€\"] == frutCara:          \n",
    "        print(f'La fruta más cara es: {key}')"
   ]
  },
  {
   "cell_type": "markdown",
   "id": "6c73a834",
   "metadata": {},
   "source": [
    "### Resultados \n",
    "1. Lista  con una fruta más agregada: compra = {'Pomes': {'Qty': 5, '€': 0.42}, 'Peres': {'Qty': 3, '€': 0.66}, 'Toronjas': {'Qty': 4, '€': 0.56}}\n",
    "2. Las peras en total costaron:  1.98\n",
    "3. Han comprado en total 12 frutas\n",
    "4. La fruta más cara es: Peres \n"
   ]
  }
 ],
 "metadata": {
  "hide_input": false,
  "kernelspec": {
   "display_name": "Python 3 (ipykernel)",
   "language": "python",
   "name": "python3"
  },
  "language_info": {
   "codemirror_mode": {
    "name": "ipython",
    "version": 3
   },
   "file_extension": ".py",
   "mimetype": "text/x-python",
   "name": "python",
   "nbconvert_exporter": "python",
   "pygments_lexer": "ipython3",
   "version": "3.9.12"
  },
  "nbTranslate": {
   "displayLangs": [
    "*"
   ],
   "hotkey": "alt-t",
   "langInMainMenu": true,
   "sourceLang": "en",
   "targetLang": "fr",
   "useGoogleTranslate": true
  },
  "toc": {
   "base_numbering": 1,
   "nav_menu": {},
   "number_sections": true,
   "sideBar": true,
   "skip_h1_title": false,
   "title_cell": "Table of Contents",
   "title_sidebar": "Contents",
   "toc_cell": false,
   "toc_position": {},
   "toc_section_display": true,
   "toc_window_display": false
  },
  "varInspector": {
   "cols": {
    "lenName": 16,
    "lenType": 16,
    "lenVar": 40
   },
   "kernels_config": {
    "python": {
     "delete_cmd_postfix": "",
     "delete_cmd_prefix": "del ",
     "library": "var_list.py",
     "varRefreshCmd": "print(var_dic_list())"
    },
    "r": {
     "delete_cmd_postfix": ") ",
     "delete_cmd_prefix": "rm(",
     "library": "var_list.r",
     "varRefreshCmd": "cat(var_dic_list()) "
    }
   },
   "types_to_exclude": [
    "module",
    "function",
    "builtin_function_or_method",
    "instance",
    "_Feature"
   ],
   "window_display": false
  }
 },
 "nbformat": 4,
 "nbformat_minor": 5
}
